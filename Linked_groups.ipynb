{
 "cells": [
  {
   "cell_type": "markdown",
   "metadata": {},
   "source": [
    "## Импорт необходимых библиотек "
   ]
  },
  {
   "cell_type": "code",
   "execution_count": null,
   "metadata": {
    "collapsed": true
   },
   "outputs": [],
   "source": [
    "import pandas as pd\n",
    "import numpy as np\n",
    "from graphviz import Digraph\n",
    "\n",
    "import warnings\n",
    "warnings.filterwarnings(\"ignore\")"
   ]
  },
  {
   "cell_type": "markdown",
   "metadata": {},
   "source": [
    "## Загружаем данные"
   ]
  },
  {
   "cell_type": "code",
   "execution_count": null,
   "metadata": {},
   "outputs": [],
   "source": [
    "data = pd.read_csv('prepared_data.csv', sep=';')\n",
    "data.shape"
   ]
  },
  {
   "cell_type": "code",
   "execution_count": null,
   "metadata": {},
   "outputs": [],
   "source": [
    "data.head(10)"
   ]
  },
  {
   "cell_type": "markdown",
   "metadata": {},
   "source": [
    "### Находим связи между людьми"
   ]
  },
  {
   "cell_type": "code",
   "execution_count": null,
   "metadata": {
    "collapsed": true
   },
   "outputs": [],
   "source": [
    "def get_values_for_graph(df):\n",
    "    \n",
    "    edgesess = df.values.tolist() \n",
    "    graph = {}\n",
    "    \n",
    "    for summa, a, b in edgesess:\n",
    "        if a not in graph:\n",
    "            graph[a] = {b:summa}\n",
    "        else:\n",
    "            graph[a].update({b:summa})\n",
    "            \n",
    "    for summa, a, b in edgesess:\n",
    "        if b not in graph:\n",
    "            graph[b] = {a:summa}\n",
    "        else:\n",
    "            graph[b].update({a:summa})\n",
    "            \n",
    "    return graph"
   ]
  },
  {
   "cell_type": "code",
   "execution_count": null,
   "metadata": {
    "collapsed": true
   },
   "outputs": [],
   "source": [
    "graph = get_values_for_graph(data)"
   ]
  },
  {
   "cell_type": "markdown",
   "metadata": {
    "collapsed": true
   },
   "source": [
    "## Находим полносвязные группы"
   ]
  },
  {
   "cell_type": "code",
   "execution_count": null,
   "metadata": {
    "collapsed": true
   },
   "outputs": [],
   "source": [
    "def coherence(vertex, visited, temp_visited, graph):\n",
    "    \n",
    "    if vertex not in visited:\n",
    "        visited.append(vertex)\n",
    "        temp_visited.append(vertex)\n",
    "        \n",
    "        for neighbor in graph[vertex].keys():\n",
    "            if neighbor not in visited:\n",
    "                coherence(neighbor, visited, temp_visited, graph)\n",
    "        \n",
    "    return visited"
   ]
  },
  {
   "cell_type": "code",
   "execution_count": null,
   "metadata": {
    "collapsed": true
   },
   "outputs": [],
   "source": [
    "nodes = np.unique(data['Payer'].values.tolist() + \\\n",
    "                  data['Recipient'].values.tolist())\n",
    "fully_con = []\n",
    "visited = []\n",
    "\n",
    "for vertex in nodes:\n",
    "    temp_visited = []\n",
    "    nodes_temp = coherence(vertex, visited, temp_visited, graph)\n",
    "    fully_con.append(temp_visited)\n",
    "\n",
    "fully_connected_groups = [i for i in fully_con if len(i) > 0]"
   ]
  },
  {
   "cell_type": "markdown",
   "metadata": {},
   "source": [
    "## С набора данных отбираем людей, которые входят в многочисленные группы"
   ]
  },
  {
   "cell_type": "code",
   "execution_count": null,
   "metadata": {},
   "outputs": [],
   "source": [
    "full_list = []\n",
    "for l in fully_connected_groups:\n",
    "    full_list = full_list + l\n",
    "    \n",
    "new_df = data[(data['Payer'].isin(full_list)) |\\\n",
    "              (data['Recipient'].isin(full_list))]"
   ]
  },
  {
   "cell_type": "markdown",
   "metadata": {},
   "source": [
    "## Формируем столбец для отрисовки данных и подсчитываем сумму переводов"
   ]
  },
  {
   "cell_type": "code",
   "execution_count": null,
   "metadata": {
    "collapsed": true
   },
   "outputs": [],
   "source": [
    "new_df['payer-buyer'] = new_df['Payer']+'-->'+new_df['Recipient']\n",
    "df_t_1 = pd.DataFrame(new_df['payer-buyer'].value_counts()).reset_index()\n",
    "df_t_1.columns = ['transact', 'frequency']\n",
    "\n",
    "df_t_1['sum_tr'] = df_t_1['transact'].map(new_df.groupby('payer-buyer')['Sum'].agg('sum'))\n",
    "transact = df_t_1['transact'].values.tolist()\n",
    "counts = df_t_1['frequency'].values.tolist()\n",
    "summ_tr = df_t_1['sum_tr'].values.tolist()"
   ]
  },
  {
   "cell_type": "markdown",
   "metadata": {},
   "source": [
    "### Engines"
   ]
  },
  {
   "cell_type": "markdown",
   "metadata": {},
   "source": [
    "dot - \"hierarchical\" or layered drawings of directed graphs. This is the default tool to use if edges have directionality.\n",
    "\n",
    "neato - \"spring model'' layouts.  This is the default tool to use if the graph is not too large (about 100 nodes) and you don't know anything else about it. Neato attempts to minimize a global energy function, which is equivalent to statistical multi-dimensional scaling.\n",
    "\n",
    "fdp - \"spring model'' layouts similar to those of neato, but does this by reducing forces rather than working with energy.\n",
    "\n",
    "sfdp - multiscale version of fdp for the layout of large graphs.\n",
    "\n",
    "twopi - radial layouts, after Graham Wills 97. Nodes are placed on concentric circles depending their distance from a given root node.\n",
    "\n",
    "circo - circular layout, after Six and Tollis 99, Kauffman and Wiese 02. This is suitable for certain diagrams of multiple cyclic structures, such as certain telecommunications networks."
   ]
  },
  {
   "cell_type": "markdown",
   "metadata": {},
   "source": [
    "## Отрисовываем полновязные группы"
   ]
  },
  {
   "cell_type": "code",
   "execution_count": null,
   "metadata": {},
   "outputs": [],
   "source": [
    "f = Digraph('finite_state_machine', \n",
    "            filename='Linked_groups', \n",
    "            engine='sfdp')\n",
    "f.attr(rank='same', size='8,5')\n",
    "f.attr('node', shape='box', color='lightblue')\n",
    "\n",
    "for i in range(len(transact)):\n",
    "    tr = transact[i]\n",
    "    sum_i = str(summ_tr[i])\n",
    "    count = str(counts[i])\n",
    "    start = tr.split('-->')[0]\n",
    "    end = tr.split('-->')[1]\n",
    "    \n",
    "    f.edge('{0}'.format(start), \n",
    "           '{0}'.format(end), \n",
    "           label='{0}'.format('f-'+count+' sum-'+sum_i), \n",
    "           arrowhead='vee')\n",
    "    \n",
    "f.view()"
   ]
  },
  {
   "cell_type": "markdown",
   "metadata": {},
   "source": [
    "## Рисуем граф для самой многочисленной группы"
   ]
  },
  {
   "cell_type": "code",
   "execution_count": null,
   "metadata": {
    "collapsed": true
   },
   "outputs": [],
   "source": [
    "large_gr = max(fully_connected_groups, key=len) ## самая многочисленная группа\n",
    "new_df = data[(data['Payer'].isin(large_gr)) |\\\n",
    "              (data['Recipient'].isin(large_gr))]"
   ]
  },
  {
   "cell_type": "code",
   "execution_count": null,
   "metadata": {
    "collapsed": true
   },
   "outputs": [],
   "source": [
    "new_df['payer-buyer'] = new_df['Payer']+'-->'+new_df['Recipient']\n",
    "df_t_1 = pd.DataFrame(new_df['payer-buyer'].value_counts()).reset_index()\n",
    "df_t_1.columns = ['transact', 'frequency']\n",
    "\n",
    "df_t_1['sum_tr'] = df_t_1['transact'].map(new_df.groupby('payer-buyer')['Sum'].agg('sum'))\n",
    "transact = df_t_1['transact'].values.tolist()\n",
    "counts = df_t_1['frequency'].values.tolist()\n",
    "summ_tr = df_t_1['sum_tr'].values.tolist()"
   ]
  },
  {
   "cell_type": "code",
   "execution_count": null,
   "metadata": {},
   "outputs": [],
   "source": [
    "f = Digraph('finite_state_machine', \n",
    "            filename='single_group', \n",
    "            engine='sfdp')\n",
    "f.attr(rank='same', size='8,5')\n",
    "f.attr('node', shape='box', color='lightblue')\n",
    "\n",
    "for i in range(len(transact)):\n",
    "    tr = transact[i]\n",
    "    sum_i = str(summ_tr[i])\n",
    "    count = str(counts[i])\n",
    "    start = tr.split('-->')[0]\n",
    "    end = tr.split('-->')[1]\n",
    "    \n",
    "    f.edge('{0}'.format(start), \n",
    "           '{0}'.format(end), \n",
    "           #label='{0}'.format('f-'+count+' sum-'+sum_i), # информация на ребрах\n",
    "           arrowhead='vee')\n",
    "    \n",
    "f.view()"
   ]
  },
  {
   "cell_type": "code",
   "execution_count": null,
   "metadata": {
    "collapsed": true
   },
   "outputs": [],
   "source": []
  }
 ],
 "metadata": {
  "kernelspec": {
   "display_name": "Python 3",
   "language": "python",
   "name": "python3"
  },
  "language_info": {
   "codemirror_mode": {
    "name": "ipython",
    "version": 3
   },
   "file_extension": ".py",
   "mimetype": "text/x-python",
   "name": "python",
   "nbconvert_exporter": "python",
   "pygments_lexer": "ipython3",
   "version": "3.6.1"
  }
 },
 "nbformat": 4,
 "nbformat_minor": 2
}
